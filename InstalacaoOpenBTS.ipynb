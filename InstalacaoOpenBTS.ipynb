{
  "metadata": {
    "kernelspec": {
      "display_name": "SQLite",
      "language": "sql",
      "name": "SQLite"
    },
    "language_info": {
      "file_extension": ".sqlite3-console",
      "mimetype": "text/x-sqlite3-console",
      "name": "sqlite3",
      "version": "0.4.0"
    }
  },
  "nbformat_minor": 4,
  "nbformat": 4,
  "cells": [
    {
      "cell_type": "markdown",
      "source": "# Instalação `OpenBTS`\nInstalação e configuração de um transceiver GSM no USRP utilizando OpenBTS.",
      "metadata": {}
    },
    {
      "cell_type": "markdown",
      "source": "## 1. Abrir terminal. Pressione as teclas:\nObs: Repetir procedimento para cada novo terminal.",
      "metadata": {}
    },
    {
      "cell_type": "code",
      "source": "CRTL+ALT+t",
      "metadata": {},
      "execution_count": null,
      "outputs": []
    },
    {
      "cell_type": "markdown",
      "source": "## 2. O projeto OpenBTS utiliza vários novos recursos no Git. Para certificar-se de que seu cliente é compatível (por exemplo, mais recente que 1.8.2). Digite no terminal: \nDesconsiderar procedimento cado o Git já esteja instalado. É ncessário que você instale uma versão do Git superior a versão 1.8.2. Digite no terminal:",
      "metadata": {}
    },
    {
      "cell_type": "code",
      "source": "$ sudo apt-get install software-properties-common python-software-properties\n$ sudo add-apt-repository ppa:git-core/ppa\n(press enter to continue)\n$ sudo apt-get update\n$ sudo apt-get install git",
      "metadata": {
        "trusted": true
      },
      "execution_count": null,
      "outputs": []
    },
    {
      "cell_type": "markdown",
      "source": "## 3. Verificar a versão do Git. Digite no terminal:",
      "metadata": {}
    },
    {
      "cell_type": "code",
      "source": "$ git --version\ngit version x.x.x",
      "metadata": {},
      "execution_count": null,
      "outputs": []
    },
    {
      "cell_type": "markdown",
      "source": "## 4. Criar pasta de instalação do OpenBTS. Digite no terminal:",
      "metadata": {}
    },
    {
      "cell_type": "code",
      "source": "mkdir openBTS\ncd openBTS/ ",
      "metadata": {},
      "execution_count": null,
      "outputs": []
    },
    {
      "cell_type": "markdown",
      "source": "## 5. Baixar a última versão do openBTS via Git. Digite no terminal: ",
      "metadata": {}
    },
    {
      "cell_type": "code",
      "source": "$ git clone https://github.com/RangeNetworks/dev.git",
      "metadata": {},
      "execution_count": null,
      "outputs": []
    },
    {
      "cell_type": "markdown",
      "source": "## 6. Baixar os componentes (asterisk, asterisk-config, CommonLibs, NodeManager, SR, subscriberRegistry e system-config). Digite no terminal:",
      "metadata": {}
    },
    {
      "cell_type": "code",
      "source": "$ cd dev\n$ ./clone.sh",
      "metadata": {},
      "execution_count": null,
      "outputs": []
    },
    {
      "cell_type": "markdown",
      "source": "## 7. Antes de compilar você deve escolher um branch usando switchto.sh. Digite no terminal:",
      "metadata": {}
    },
    {
      "cell_type": "code",
      "source": "$ ./switchto.sh master\n(or)\n$ ./switchto.sh 4.0\n(or)\n$ ./switchto.sh v4.0.0",
      "metadata": {},
      "execution_count": null,
      "outputs": []
    },
    {
      "cell_type": "markdown",
      "source": "## 8. O script build.sh instalará automaticamente todas as dependências de compilação e construirá um pacote de instalação para cada componente. Digite no terminal:\nDepois que as dependências são resolvidas, cada componente é compilado em um pacote instalável.",
      "metadata": {}
    },
    {
      "cell_type": "markdown",
      "source": "./$ ./build.sh <radio-type>",
      "metadata": {}
    },
    {
      "cell_type": "code",
      "source": "O rádio disponível em laboratório é o N210.\nOs pacotes compilados estão agora em um novo diretório chamado BUILDS/data-horas.",
      "metadata": {},
      "execution_count": null,
      "outputs": []
    },
    {
      "cell_type": "markdown",
      "source": "É possível que você receba uma mensagem indicando dependências, digite a senha de\nadministrador e pressione ENTER para continuar. Agora pode ir tomar uma água, pois esse\nprocesso vai demorar!",
      "metadata": {}
    },
    {
      "cell_type": "markdown",
      "source": "## 9. Use o dpkg para instalar os novos pacotes (isso irá reclamar das dependências). Digite no terminal (por exemplo):",
      "metadata": {}
    },
    {
      "cell_type": "code",
      "source": "$ sudo dpkg -i BUILDS/2022-08-29--16-20-43/*.deb",
      "metadata": {},
      "execution_count": null,
      "outputs": []
    },
    {
      "cell_type": "markdown",
      "source": "Digite Y se for perguntado se você quer realmente instalar os pacotes.",
      "metadata": {}
    },
    {
      "cell_type": "markdown",
      "source": "## 10. Para que o Aptitude resolva as dependências, Digite no terminal:",
      "metadata": {}
    },
    {
      "cell_type": "code",
      "source": "$ sudo apt-get -f install",
      "metadata": {},
      "execution_count": null,
      "outputs": []
    },
    {
      "cell_type": "markdown",
      "source": "Digite Y se for perguntado se você quer realmente instalar os pacotes.",
      "metadata": {}
    },
    {
      "cell_type": "markdown",
      "source": "Esses procedimentos seguem os passos de [https://github.com/RangeNetworks/dev/wiki](https://github.com/RangeNetworks/dev/wiki). ",
      "metadata": {}
    },
    {
      "cell_type": "markdown",
      "source": "## 11. Você precisa criar um link simbólico para o arquivo executável transceiver52M. Digite no terminal:",
      "metadata": {}
    },
    {
      "cell_type": "code",
      "source": "cd openbts/apps/\nln -s ../Transceiver52M/transceiver .",
      "metadata": {},
      "execution_count": null,
      "outputs": []
    },
    {
      "cell_type": "markdown",
      "source": "Para testar se o link foi criado, digite:",
      "metadata": {}
    },
    {
      "cell_type": "code",
      "source": "ls –lah",
      "metadata": {},
      "execution_count": null,
      "outputs": []
    },
    {
      "cell_type": "markdown",
      "source": "Você verá a seguinte tela (o link aparecerá em azul no final):",
      "metadata": {}
    },
    {
      "cell_type": "markdown",
      "source": "## 12. Verificando a configuração do OpenBTS. Procure se o seguinte arquivo existe: /etc/OpenBTS/OpenBTS.db\nEle é um banco de dados que guarda todas as configurações do OpenBTS. Ele precisa ser criado na pasta “/etc/OpenBTS”. Para verificar se o arquivo existe, digite no terminal:",
      "metadata": {}
    },
    {
      "cell_type": "code",
      "source": "ls /etc/OpenBTS/OpenBTS.db\nsudo sqlite3 -init ./apps/OpenBTS.example.sql /etc/OpenBTS/OpenBTS.db \".quit\"",
      "metadata": {},
      "execution_count": null,
      "outputs": []
    },
    {
      "cell_type": "markdown",
      "source": "Você ainda pode testar se o arquivo com o seguinte comando:",
      "metadata": {}
    },
    {
      "cell_type": "code",
      "source": "sudo sqlite3 /etc/OpenBTS/OpenBTS.db .dump",
      "metadata": {},
      "execution_count": null,
      "outputs": []
    },
    {
      "cell_type": "markdown",
      "source": "Se você visualizar uma série de variáveis de configuração, o banco de dados está instalado\ncorretamente. Se o arquivo não existir, digite a sequencia de comandos abaixo para criá-lo:",
      "metadata": {}
    },
    {
      "cell_type": "code",
      "source": "sudo mkdir /etc/OpenBTS\nsudo sqlite3 -init ./OpenBTS.example.sql /etc/OpenBTS/OpenBTS.db \".quit\"",
      "metadata": {},
      "execution_count": null,
      "outputs": []
    },
    {
      "cell_type": "markdown",
      "source": "Ao final, você verá a seguinte tela:",
      "metadata": {}
    },
    {
      "cell_type": "markdown",
      "source": "## 12. Configurar segundo adaptador na máquina virtual",
      "metadata": {}
    },
    {
      "cell_type": "markdown",
      "source": "ip fixo 192.168.10.1/24",
      "metadata": {}
    },
    {
      "cell_type": "markdown",
      "source": "## 13. Rodar openBTS",
      "metadata": {}
    },
    {
      "cell_type": "markdown",
      "source": "Plug a USRP no computador, abra outro terminal (crtl+alt+t) e digite:",
      "metadata": {}
    },
    {
      "cell_type": "code",
      "source": "uhd_usrp_probe",
      "metadata": {},
      "execution_count": null,
      "outputs": []
    },
    {
      "cell_type": "markdown",
      "source": "Antes de abrir o openBTS é importante verificar algumas mensagens de Alerta (warnings).",
      "metadata": {}
    },
    {
      "cell_type": "markdown",
      "source": "Se necessario atualização do firmware.",
      "metadata": {}
    },
    {
      "cell_type": "code",
      "source": "sudo su\n/usr/lib/uhd/utils/uhd_images_downloader.py\n/sudo /usr/bin/uhd_image_loader --args=\"type=usrp2, addr=192.168.1.2\"",
      "metadata": {},
      "execution_count": null,
      "outputs": []
    },
    {
      "cell_type": "markdown",
      "source": "Se relacionadas com a memória alocada para a USRP. Duas mensagens em especial, sugere para que dois buffers sejam modificados. Digite em um terminal:",
      "metadata": {}
    },
    {
      "cell_type": "code",
      "source": "sudo sysctl -w net.core.rmem_max=50000000\nsudo sysctl -w net.core.wmem_max=1048576",
      "metadata": {},
      "execution_count": null,
      "outputs": []
    },
    {
      "cell_type": "markdown",
      "source": "Se você vir a seguinte mensagem de alerta, tudo deu certo.",
      "metadata": {}
    },
    {
      "cell_type": "code",
      "source": "",
      "metadata": {},
      "execution_count": null,
      "outputs": []
    },
    {
      "cell_type": "markdown",
      "source": "Agora, para iniciar o OpenBTS, digite:",
      "metadata": {}
    },
    {
      "cell_type": "code",
      "source": "sudo ./OpenBTS",
      "metadata": {},
      "execution_count": null,
      "outputs": []
    },
    {
      "cell_type": "markdown",
      "source": "Se você vir a seguinte mensagem de alerta, ignore, tudo deu certo e seu OpenBTS está instalado corretamente:",
      "metadata": {}
    },
    {
      "cell_type": "code",
      "source": "ALERT 3074381568 15:15:45.5 TRXManager.cpp:595:getFactoryCalibration: READFACTORY\nfailed with status 1",
      "metadata": {},
      "execution_count": null,
      "outputs": []
    }
  ]
}